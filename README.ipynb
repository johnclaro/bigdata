{
 "cells": [
  {
   "cell_type": "code",
   "execution_count": 40,
   "id": "df2d3a4f",
   "metadata": {},
   "outputs": [
    {
     "data": {
      "image/png": "[encoded data removed]",
      "text/plain": [
       "<Figure size 432x288 with 1 Axes>"
      ]
     },
     "metadata": {
      "needs_background": "light"
     },
     "output_type": "display_data"
    }
   ],
   "source": [
    "import numpy as np\n",
    "import matplotlib\n",
    "import matplotlib.pyplot as plt\n",
    "import pandas as pd\n",
    "\n",
    "data = pd.read_csv('csvs/rooks.csv')\n",
    "numbers = ['1', '2', '3', '4', '5', '6', '7', '8']\n",
    "alphabets = ['a', 'b', 'c', 'd', 'e', 'f', 'g', 'h']\n",
    "\n",
    "rows = []\n",
    "for number in reversed(numbers):\n",
    "    row = []\n",
    "    for alphabet in alphabets:\n",
    "        key = f'{alphabet}{number}'\n",
    "        value = data[data['Location'] == key]['Count'].values[0]\n",
    "        row.append(value)\n",
    "        if alphabet == 'h':\n",
    "            rows.append(row)\n",
    "\n",
    "kings = np.array(rows)\n",
    "\n",
    "\n",
    "fig, ax = plt.subplots()\n",
    "im = ax.imshow(kings)\n",
    "\n",
    "# We want to show all ticks...\n",
    "ax.set_xticks(np.arange(len(alphabets)))\n",
    "ax.set_yticks(np.arange(len(numbers)))\n",
    "# ... and label them with the respective list entries\n",
    "ax.set_xticklabels(alphabets)\n",
    "ax.set_yticklabels(numbers)\n",
    "\n",
    "ax.set_title('Heatmap of White and Black Kings')\n",
    "fig.tight_layout()\n",
    "plt.show()"
   ]
  },
  {
   "cell_type": "code",
   "execution_count": null,
   "id": "45ceda19",
   "metadata": {},
   "outputs": [],
   "source": []
  }
 ],
 "metadata": {
  "kernelspec": {
   "display_name": "Python 3",
   "language": "python",
   "name": "python3"
  },
  "language_info": {
   "codemirror_mode": {
    "name": "ipython",
    "version": 3
   },
   "file_extension": ".py",
   "mimetype": "text/x-python",
   "name": "python",
   "nbconvert_exporter": "python",
   "pygments_lexer": "ipython3",
   "version": "3.7.0"
  }
 },
 "nbformat": 4,
 "nbformat_minor": 5
}
